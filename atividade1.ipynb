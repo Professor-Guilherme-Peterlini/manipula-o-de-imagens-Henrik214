{
 "cells": [
  {
   "cell_type": "code",
   "execution_count": 15,
   "metadata": {},
   "outputs": [
    {
     "name": "stdout",
     "output_type": "stream",
     "text": [
      "Requirement already satisfied: pillow in /home/codespace/.local/lib/python3.12/site-packages (11.0.0)\n",
      "Note: you may need to restart the kernel to use updated packages.\n"
     ]
    }
   ],
   "source": [
    "pip install pillow"
   ]
  },
  {
   "cell_type": "code",
   "execution_count": 16,
   "metadata": {},
   "outputs": [
    {
     "name": "stdout",
     "output_type": "stream",
     "text": [
      "Fomato: JPEG\n",
      "Tamanho: (110, 114)\n",
      "Modo: RGB\n"
     ]
    }
   ],
   "source": [
    "from PIL import Image,ImageEnhance, ImageFilter\n",
    "imagem = Image.open('cocytus.jpeg')\n",
    "print(f\"Fomato: {imagem.format}\")\n",
    "print(f\"Tamanho: {imagem.size}\")\n",
    "print(f\"Modo: {imagem.mode}\")\n"
   ]
  },
  {
   "cell_type": "code",
   "execution_count": 17,
   "metadata": {},
   "outputs": [],
   "source": [
    "def redimensionar_imagem(imagem, fator=0.5):\n",
    "    novo_tamanho = (int(imagem.size[0] * fator), int (imagem.size[1] * fator))\n",
    "    imagem_redimensionada = imagem.resize(novo_tamanho)\n",
    "    return imagem_redimensionada\n",
    "#deixa a metade do tamanho\n",
    "\n",
    "# Teste sua função\n",
    "imagem_pequena = redimensionar_imagem(imagem)\n",
    "imagem_pequena.save('cocytus.jpeg')\n",
    "\n"
   ]
  },
  {
   "cell_type": "code",
   "execution_count": null,
   "metadata": {},
   "outputs": [],
   "source": [
    "def transformar_imagem(imagem)\n",
    "    rotacionada = imagem.rotate(45, expand=True)\n",
    "    \n",
    "    espelhada = imagem.transpose(Image.FLIP_LEFT_RIGHT)\n",
    "    \n",
    "    return rotacionada, espelhada\n",
    "\n",
    "\n",
    "rotacionada, espelhada = transformar_imagem(imagem)\n",
    "rotacionada.save('imagem_rotacionada.jpg')\n",
    "espelhada.save('imagem_espelhada.jpg')\n",
    "\n",
    "def aplicar_filtros(imagem):\n",
    "    \n",
    "    nitidez = imagem.filter(ImageFilter.SHARPEN)\n",
    "    \n",
    "    \n",
    "    desfoque = imagem.filter(ImageFilter.BLUR)\n",
    "    \n",
    "    \n",
    "    bordas = imagem.filter(ImageFilter.FIND_EDGES)\n",
    "    \n",
    "    return nitidez, desfoque, bordas\n",
    "\n",
    "\n",
    "nitidez, desfoque, bordas = aplicar_filtros(imagem)\n",
    "nitidez.save('imagem_nitida.jpg')\n",
    "desfoque.save('imagem_desfocada.jpg')\n",
    "bordas.save('imagem_bordas.jpg')"
   ]
  },
  {
   "cell_type": "code",
   "execution_count": null,
   "metadata": {},
   "outputs": [],
   "source": [
    "def aplicar_filtros(imagem):\n",
    "    \n",
    "    nitidez = imagem.filter(ImageFilter.SHARPEN)\n",
    "    \n",
    "    \n",
    "    desfoque = imagem.filter(ImageFilter.BLUR)\n",
    "    \n",
    "    \n",
    "    bordas = imagem.filter(ImageFilter.FIND_EDGES)\n",
    "    \n",
    "    return nitidez, desfoque, bordas\n",
    "\n",
    "\n",
    "nitidez, desfoque, bordas = aplicar_filtros(imagem)\n",
    "nitidez.save('cocytus.jpeg')\n",
    "desfoque.save('cocytus.jpeg')\n",
    "bordas.save('cocytus.jpeg')"
   ]
  },
  {
   "cell_type": "code",
   "execution_count": null,
   "metadata": {},
   "outputs": [],
   "source": [
    "def processamento_completo(imagem):\n",
    "    \n",
    "    img_redimensionada = redimensionar_imagem(imagem, 0.75)\n",
    "    \n",
    "    img_rotacionada = img_redimensionada.rotate(30, expand=True)\n",
    "    \n",
    "    img_filtrada = img_rotacionada.filter(ImageFilter.SHARPEN)\n",
    "    \n",
    "    enhancer = ImageEnhance.Brightness(img_filtrada)\n",
    "    img_brilho = enhancer.enhance(1.2)\n",
    "    \n",
    "    enhancer = ImageEnhance.Contrast(img_brilho)\n",
    "    img_final = enhancer.enhance(1.3) \n",
    "    \n",
    "    return img_final\n",
    "\n",
    "imagem_final = processamento_completo(imagem)\n",
    "imagem_final.save('cocytus.jpeg')"
   ]
  }
 ],
 "metadata": {
  "kernelspec": {
   "display_name": "Python 3",
   "language": "python",
   "name": "python3"
  },
  "language_info": {
   "codemirror_mode": {
    "name": "ipython",
    "version": 3
   },
   "file_extension": ".py",
   "mimetype": "text/x-python",
   "name": "python",
   "nbconvert_exporter": "python",
   "pygments_lexer": "ipython3",
   "version": "3.12.1"
  }
 },
 "nbformat": 4,
 "nbformat_minor": 2
}
